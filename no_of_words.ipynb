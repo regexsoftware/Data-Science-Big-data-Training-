{
 "cells": [
  {
   "cell_type": "code",
   "execution_count": 49,
   "metadata": {},
   "outputs": [
    {
     "name": "stdout",
     "output_type": "stream",
     "text": [
      "count of alphabets\n",
      "[3771, 3375, 2689, 2637, 2553, 2524, 2220, 2058, 1578, 1494, 1489, 1112, 926, 914, 839, 676, 602, 555, 468, 446, 378, 281, 150, 30, 21, 18]\n",
      "top 5 alphabets with maximum\n",
      "[3771, 3375, 2689, 2637, 2553]\n",
      "graph of all alphabets and their count\n"
     ]
    },
    {
     "data": {
      "image/png": "[encoded data removed]",
      "text/plain": [
       "<Figure size 432x288 with 1 Axes>"
      ]
     },
     "metadata": {
      "needs_background": "light"
     },
     "output_type": "display_data"
    }
   ],
   "source": [
    "import requests\n",
    "import webbrowser\n",
    "from bs4 import BeautifulSoup\n",
    "import re\n",
    "from matplotlib import pyplot as plt\n",
    "url=\"https://www.cricbuzz.com/\"\n",
    "\n",
    "page=requests.get(url)\n",
    "page=page.text\n",
    "\n",
    "content=BeautifulSoup(page,\"html.parser\")\n",
    "#print(content.text)\n",
    "ll=[]\n",
    "l2=[\"?\",\"\\xa0•\\xa0\\xa0GMT\",\"►\",\"✖ \",\"suggest.tag\",\"SEARCH  .cb-srch-ico{margin: 0} \",\"{{}} \",\"\"\"CBQueue.push(function(){ if((_GEO.country == \"US\" || _GEO.country == \"CA\") && false){ _ele('#video_playlist').html('<div class=\"cb-bg-white\" style=\"margin:0 5px 10px;\"><div class=\"kaltura-playlist\" uiconf_id=\"33885652\" entry_id=\"0_lvphia47\" uiautoplay=\"false\" style=\"width:420px;height:385px;padding:10px 15px;\"></div></div>'); }else if([\"AE\",\"SA\",\"KW\",\"BH\",\"QA\",\"OM\",\"GB\"].indexOf(_GEO.country) != -1 && false){ var eplr = document.createElement('script'); eplr.type = 'text/javascript'; eplr.async = true; eplr.src = 'https://player.performgroup.com/eplayer.js#ccb175de91b4f3c5c4bbed6a35.qjdsydmry69m1je82zk8il975'; var vpl = document.getElementById('video_playlist'); vpl.className = \"cb-bg-white\"; vpl.style.margin = \"0px 5px 10px\"; vpl.appendChild(eplr); } }); CBQueue.push(function(){\tif(_GEO.country == \"US\" || _GEO.country == \"CA\"){\t_ele('#kaltura-video-player').removeClass('disp-none');\t}\tif(_GEO.country == \"IN\" ){\t_ele('specials-home-module').removeClass('disp-none');\t}\"\"\",\n",
    "   \"\"\" CBQueue.push(function(){ if((_GEO.country == \"US\" || _GEO.country == \"CA\") && false){ _ele('#video_playlist').html('<div class=\"cb-bg-white\" style=\"margin:0 5px 10px;\"><div class=\"kaltura-playlist\" uiconf_id=\"33885652\" entry_id=\"0_lvphia47\" uiautoplay=\"false\" style=\"width:420px;height:385px;padding:10px 15px;\"></div></div>'); }else if([\"AE\",\"SA\",\"KW\",\"BH\",\"QA\",\"OM\",\"GB\"].indexOf(_GEO.country) != -1 && false){ var eplr = document.createElement('script'); eplr.type = 'text/javascript'; eplr.async = true; eplr.src = 'https://player.performgroup.com/eplayer.js#ccb175de91b4f3c5c4bbed6a35.qjdsydmry69m1je82zk8il975'; var vpl = document.getElementById('video_playlist'); vpl.className = \"cb-bg-white\"; vpl.style.margin = \"0px 5px 10px\"; vpl.appendChild(eplr); } });\"\"\"]\n",
    "content2=content.find_all(\"div\")\n",
    "for i in content2:\n",
    "    ll.append(i.text)\n",
    "    \n",
    "#print(len(ll))\n",
    "\n",
    "def list_to_str(s):\n",
    "    str = \"\"\n",
    "    for ele in s:\n",
    "        str=str+ele\n",
    "    return str\n",
    "\n",
    "raw_material=list_to_str(ll)\n",
    "#print(raw_material)   \n",
    "for i in l2:\n",
    "    raw_material=raw_material.replace(i,\"\")\n",
    "#print(raw_material)\n",
    "total_len=[]\n",
    "list_of_alphabets=[]\n",
    "for i in range(97,123):\n",
    "    list_of_alphabets.append(chr(i))\n",
    "    x = re.findall(f\"{chr(i)}\", raw_material)\n",
    "    total_len.append(len(x))\n",
    "\n",
    "#print(total_len)\n",
    "\n",
    "total_len.sort(reverse=True)\n",
    "print(\"count of alphabets\")\n",
    "print(total_len)\n",
    "max_list=[]\n",
    "for i in range(0,5):\n",
    "    max_list.append(total_len[i])\n",
    "print(\"top 5 alphabets with maximum count\")\n",
    "print(max_list)\n",
    "print(\"graph of all alphabets and their count\")\n",
    "\n",
    "plt.bar(list_of_alphabets,total_len)\n",
    "plt.show()\n"
   ]
  }
 ],
 "metadata": {
  "kernelspec": {
   "display_name": "Python 3",
   "language": "python",
   "name": "python3"
  },
  "language_info": {
   "codemirror_mode": {
    "name": "ipython",
    "version": 3
   },
   "file_extension": ".py",
   "mimetype": "text/x-python",
   "name": "python",
   "nbconvert_exporter": "python",
   "pygments_lexer": "ipython3",
   "version": "3.7.4"
  }
 },
 "nbformat": 4,
 "nbformat_minor": 2
}
