{
 "cells": [
  {
   "cell_type": "code",
   "execution_count": null,
   "metadata": {},
   "outputs": [],
   "source": [
    "# Sentiment analysis is basically the process of determining the attitude or the emotion of the writer, \n",
    "#i.e., whether it is positive or negative or neutral.\n",
    "#polarity stands for negative and positive.range[-1,1]\n",
    "#Subjective sentences generally refer to personal opinion, emotion or judgment[0,1]"
   ]
  },
  {
   "cell_type": "code",
   "execution_count": 37,
   "metadata": {},
   "outputs": [
    {
     "data": {
      "text/plain": [
       "Sentiment(polarity=-0.8, subjectivity=0.9)"
      ]
     },
     "execution_count": 37,
     "metadata": {},
     "output_type": "execute_result"
    }
   ],
   "source": [
    "import pyaudio\n",
    "import speech_recognition as sr\n",
    "from textblob import TextBlob\n",
    "# from textblob.sentiments import NaiveBayesAnalyzer\n",
    "r=sr.Recognizer()\n",
    "sr.Microphone.list_microphone_names()\n",
    "mic=sr.Microphone(device_index=1)\n",
    "with mic as source:\n",
    "    audio=r.listen(source) \n",
    "r.recognize_google(audio)\n",
    "# audio=str(audio)\n",
    "\n",
    "TextBlob(str(r.recognize_google(audio))).sentiment\n",
    "\n"
   ]
  },
  {
   "cell_type": "code",
   "execution_count": null,
   "metadata": {},
   "outputs": [],
   "source": []
  },
  {
   "cell_type": "code",
   "execution_count": 1,
   "metadata": {},
   "outputs": [
    {
     "data": {
      "text/plain": [
       "TextBlob(\"naly\")"
      ]
     },
     "execution_count": 1,
     "metadata": {},
     "output_type": "execute_result"
    }
   ],
   "source": []
  }
 ],
 "metadata": {
  "kernelspec": {
   "display_name": "Python 3",
   "language": "python",
   "name": "python3"
  },
  "language_info": {
   "codemirror_mode": {
    "name": "ipython",
    "version": 3
   },
   "file_extension": ".py",
   "mimetype": "text/x-python",
   "name": "python",
   "nbconvert_exporter": "python",
   "pygments_lexer": "ipython3",
   "version": "3.7.4"
  }
 },
 "nbformat": 4,
 "nbformat_minor": 2
}
